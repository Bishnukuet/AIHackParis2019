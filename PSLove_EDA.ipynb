{
 "cells": [
  {
   "cell_type": "code",
   "execution_count": 1,
   "metadata": {},
   "outputs": [],
   "source": [
    "import pandas as pd\n",
    "import numpy as np\n",
    "import matplotlib.pyplot as plt"
   ]
  },
  {
   "cell_type": "markdown",
   "metadata": {},
   "source": [
    "### Load dataset"
   ]
  },
  {
   "cell_type": "code",
   "execution_count": 3,
   "metadata": {},
   "outputs": [],
   "source": [
    "users = pd.read_csv('datasets/User.csv')\n",
    "symptom = pd.read_csv('datasets/Symptom.csv')\n",
    "period = pd.read_csv('datasets/Period.csv')"
   ]
  },
  {
   "cell_type": "code",
   "execution_count": 4,
   "metadata": {},
   "outputs": [
    {
     "name": "stdout",
     "output_type": "stream",
     "text": [
      "<class 'pandas.core.frame.DataFrame'>\n",
      "RangeIndex: 6729 entries, 0 to 6728\n",
      "Data columns (total 4 columns):\n",
      "id                       6729 non-null int64\n",
      "dob                      440 non-null object\n",
      "cycle_length_initial     6729 non-null int64\n",
      "period_length_initial    6729 non-null int64\n",
      "dtypes: int64(3), object(1)\n",
      "memory usage: 210.4+ KB\n"
     ]
    }
   ],
   "source": [
    "users.info()\n"
   ]
  },
  {
   "cell_type": "code",
   "execution_count": 5,
   "metadata": {},
   "outputs": [
    {
     "data": {
      "text/plain": [
       "id                          0\n",
       "dob                      6289\n",
       "cycle_length_initial        0\n",
       "period_length_initial       0\n",
       "dtype: int64"
      ]
     },
     "execution_count": 5,
     "metadata": {},
     "output_type": "execute_result"
    }
   ],
   "source": [
    "users.isnull().sum()"
   ]
  },
  {
   "cell_type": "markdown",
   "metadata": {},
   "source": [
    "## 2 . Preprocessing Data"
   ]
  },
  {
   "cell_type": "markdown",
   "metadata": {},
   "source": [
    "## We found many NaN values in dob columns. It can be explained that users avoid to inputting their personal inforlmation. So dropping this column is better for the exploratory data"
   ]
  },
  {
   "cell_type": "code",
   "execution_count": 6,
   "metadata": {},
   "outputs": [],
   "source": [
    "df_user = users.drop(columns = ['dob'])"
   ]
  },
  {
   "cell_type": "code",
   "execution_count": 7,
   "metadata": {},
   "outputs": [
    {
     "name": "stdout",
     "output_type": "stream",
     "text": [
      "<class 'pandas.core.frame.DataFrame'>\n",
      "RangeIndex: 6729 entries, 0 to 6728\n",
      "Data columns (total 3 columns):\n",
      "id                       6729 non-null int64\n",
      "cycle_length_initial     6729 non-null int64\n",
      "period_length_initial    6729 non-null int64\n",
      "dtypes: int64(3)\n",
      "memory usage: 157.8 KB\n"
     ]
    }
   ],
   "source": [
    "df_user.info()"
   ]
  },
  {
   "cell_type": "code",
   "execution_count": 8,
   "metadata": {},
   "outputs": [
    {
     "data": {
      "text/html": [
       "<div>\n",
       "<style scoped>\n",
       "    .dataframe tbody tr th:only-of-type {\n",
       "        vertical-align: middle;\n",
       "    }\n",
       "\n",
       "    .dataframe tbody tr th {\n",
       "        vertical-align: top;\n",
       "    }\n",
       "\n",
       "    .dataframe thead th {\n",
       "        text-align: right;\n",
       "    }\n",
       "</style>\n",
       "<table border=\"1\" class=\"dataframe\">\n",
       "  <thead>\n",
       "    <tr style=\"text-align: right;\">\n",
       "      <th></th>\n",
       "      <th>id</th>\n",
       "      <th>cycle_length_initial</th>\n",
       "      <th>period_length_initial</th>\n",
       "    </tr>\n",
       "  </thead>\n",
       "  <tbody>\n",
       "    <tr>\n",
       "      <th>count</th>\n",
       "      <td>6729.000000</td>\n",
       "      <td>6729.000000</td>\n",
       "      <td>6729.000000</td>\n",
       "    </tr>\n",
       "    <tr>\n",
       "      <th>mean</th>\n",
       "      <td>3689.714816</td>\n",
       "      <td>28.710358</td>\n",
       "      <td>5.485362</td>\n",
       "    </tr>\n",
       "    <tr>\n",
       "      <th>std</th>\n",
       "      <td>1944.844016</td>\n",
       "      <td>2.728839</td>\n",
       "      <td>2.611793</td>\n",
       "    </tr>\n",
       "    <tr>\n",
       "      <th>min</th>\n",
       "      <td>252.000000</td>\n",
       "      <td>25.000000</td>\n",
       "      <td>2.000000</td>\n",
       "    </tr>\n",
       "    <tr>\n",
       "      <th>25%</th>\n",
       "      <td>2009.000000</td>\n",
       "      <td>28.000000</td>\n",
       "      <td>4.000000</td>\n",
       "    </tr>\n",
       "    <tr>\n",
       "      <th>50%</th>\n",
       "      <td>3691.000000</td>\n",
       "      <td>28.000000</td>\n",
       "      <td>5.000000</td>\n",
       "    </tr>\n",
       "    <tr>\n",
       "      <th>75%</th>\n",
       "      <td>5373.000000</td>\n",
       "      <td>29.000000</td>\n",
       "      <td>6.000000</td>\n",
       "    </tr>\n",
       "    <tr>\n",
       "      <th>max</th>\n",
       "      <td>7055.000000</td>\n",
       "      <td>40.000000</td>\n",
       "      <td>51.000000</td>\n",
       "    </tr>\n",
       "  </tbody>\n",
       "</table>\n",
       "</div>"
      ],
      "text/plain": [
       "                id  cycle_length_initial  period_length_initial\n",
       "count  6729.000000           6729.000000            6729.000000\n",
       "mean   3689.714816             28.710358               5.485362\n",
       "std    1944.844016              2.728839               2.611793\n",
       "min     252.000000             25.000000               2.000000\n",
       "25%    2009.000000             28.000000               4.000000\n",
       "50%    3691.000000             28.000000               5.000000\n",
       "75%    5373.000000             29.000000               6.000000\n",
       "max    7055.000000             40.000000              51.000000"
      ]
     },
     "execution_count": 8,
     "metadata": {},
     "output_type": "execute_result"
    }
   ],
   "source": [
    "df_user.describe()"
   ]
  },
  {
   "cell_type": "markdown",
   "metadata": {},
   "source": [
    "### we can see some nonsense Max value in period_length_initial column. It is not normal if the period last more than 7 days"
   ]
  },
  {
   "cell_type": "code",
   "execution_count": 9,
   "metadata": {},
   "outputs": [],
   "source": [
    "# we split users into 3 groups:\n",
    "# group 1: length <= 7\n",
    "# group 2: 7 < length <= 15\n",
    "# group 3: 15 < length <= 51\n",
    "\n",
    "criteria  = df_user['period_length_initial'] <= 7\n",
    "df_user1 = df_user[criteria]\n",
    "\n",
    "criteria1  = df_user['period_length_initial'] > 7 \n",
    "criteria2 = df_user['period_length_initial'] <= 15\n",
    "criteria = criteria1 & criteria2\n",
    "\n",
    "df_user2 = df_user[criteria]\n",
    "\n",
    "criteria = df_user['period_length_initial'] > 15\n",
    "df_user3 = df_user[criteria]\n"
   ]
  },
  {
   "cell_type": "code",
   "execution_count": 10,
   "metadata": {},
   "outputs": [
    {
     "name": "stdout",
     "output_type": "stream",
     "text": [
      "    id  cycle_length_initial  period_length_initial\n",
      "0  252                    28                      6\n",
      "1  253                    30                      5\n",
      "2  254                    28                      6\n",
      "3  255                    30                      4\n",
      "4  256                    25                      6\n",
      "     id  cycle_length_initial  period_length_initial\n",
      "14  266                    34                      8\n",
      "16  269                    28                      8\n",
      "25  278                    28                      8\n",
      "37  290                    28                      8\n",
      "39  292                    25                      8\n",
      "       id  cycle_length_initial  period_length_initial\n",
      "275   602                    28                     16\n",
      "329   656                    25                     51\n",
      "590   917                    32                     33\n",
      "733  1060                    28                     16\n",
      "903  1230                    30                     35\n"
     ]
    }
   ],
   "source": [
    "# show some lines of each dataframe\n",
    "print(df_user1.head())\n",
    "print(df_user2.head())\n",
    "print(df_user3.head())"
   ]
  },
  {
   "cell_type": "markdown",
   "metadata": {},
   "source": [
    "### Lets explore period dataset"
   ]
  },
  {
   "cell_type": "code",
   "execution_count": 11,
   "metadata": {},
   "outputs": [
    {
     "name": "stdout",
     "output_type": "stream",
     "text": [
      "<class 'pandas.core.frame.DataFrame'>\n",
      "RangeIndex: 34942 entries, 0 to 34941\n",
      "Data columns (total 4 columns):\n",
      "id            34942 non-null int64\n",
      "start_date    34939 non-null object\n",
      "end_date      32168 non-null object\n",
      "User_id       34942 non-null int64\n",
      "dtypes: int64(2), object(2)\n",
      "memory usage: 1.1+ MB\n"
     ]
    }
   ],
   "source": [
    "period.info()"
   ]
  },
  {
   "cell_type": "code",
   "execution_count": 14,
   "metadata": {},
   "outputs": [],
   "source": [
    "#df_period = period.dropna()\n",
    "#df_period.info()\n",
    "\n",
    "#convert date object into date format\n",
    "df_period = period\n",
    "df_period['start_date'] = pd.to_datetime(df_period['start_date'], errors='coerce' )\n",
    "df_period['end_date'] = pd.to_datetime(df_period['end_date'], errors='coerce' )\n",
    "df_period = df_period.dropna()\n",
    "\n",
    "\n",
    "#period['start'] = pd.to_datetime(period['start_date'])\n",
    "#period['end'] = pd.to_datetime(period['end_date'])"
   ]
  },
  {
   "cell_type": "markdown",
   "metadata": {},
   "source": [
    "### Lets see how many missing records deleted"
   ]
  },
  {
   "cell_type": "code",
   "execution_count": 15,
   "metadata": {},
   "outputs": [
    {
     "name": "stdout",
     "output_type": "stream",
     "text": [
      "2779\n"
     ]
    }
   ],
   "source": [
    "print(len(period.values) - len(df_period.values))"
   ]
  },
  {
   "cell_type": "markdown",
   "metadata": {},
   "source": [
    "### Lets explore symptom dataset"
   ]
  },
  {
   "cell_type": "code",
   "execution_count": 16,
   "metadata": {},
   "outputs": [
    {
     "name": "stdout",
     "output_type": "stream",
     "text": [
      "<class 'pandas.core.frame.DataFrame'>\n",
      "RangeIndex: 13512 entries, 0 to 13511\n",
      "Data columns (total 13 columns):\n",
      "id          13512 non-null int64\n",
      "user_id     13512 non-null int64\n",
      "acne        13512 non-null int64\n",
      "backache    13512 non-null int64\n",
      "bloating    13512 non-null int64\n",
      "cramp       13512 non-null int64\n",
      "diarrhea    13512 non-null int64\n",
      "dizzy       13512 non-null int64\n",
      "headache    13512 non-null int64\n",
      "mood        13512 non-null int64\n",
      "nausea      13512 non-null int64\n",
      "sore        13512 non-null int64\n",
      "date        13512 non-null object\n",
      "dtypes: int64(12), object(1)\n",
      "memory usage: 1.3+ MB\n"
     ]
    }
   ],
   "source": [
    "symptom.info()"
   ]
  },
  {
   "cell_type": "code",
   "execution_count": 17,
   "metadata": {},
   "outputs": [
    {
     "data": {
      "text/plain": [
       "id          0\n",
       "user_id     0\n",
       "acne        0\n",
       "backache    0\n",
       "bloating    0\n",
       "cramp       0\n",
       "diarrhea    0\n",
       "dizzy       0\n",
       "headache    0\n",
       "mood        0\n",
       "nausea      0\n",
       "sore        0\n",
       "date        0\n",
       "dtype: int64"
      ]
     },
     "execution_count": 17,
     "metadata": {},
     "output_type": "execute_result"
    }
   ],
   "source": [
    "symptom.isnull().sum()"
   ]
  },
  {
   "cell_type": "markdown",
   "metadata": {},
   "source": [
    "### There is no NaN values found in Symptom dataset. \n",
    "### Convert date object into date format"
   ]
  },
  {
   "cell_type": "code",
   "execution_count": 18,
   "metadata": {},
   "outputs": [],
   "source": [
    "df_symptom = symptom\n",
    "df_symptom['date'] = pd.to_datetime(df_symptom['date'], errors='coerce')"
   ]
  },
  {
   "cell_type": "code",
   "execution_count": 19,
   "metadata": {},
   "outputs": [
    {
     "name": "stdout",
     "output_type": "stream",
     "text": [
      "<class 'pandas.core.frame.DataFrame'>\n",
      "RangeIndex: 13512 entries, 0 to 13511\n",
      "Data columns (total 13 columns):\n",
      "id          13512 non-null int64\n",
      "user_id     13512 non-null int64\n",
      "acne        13512 non-null int64\n",
      "backache    13512 non-null int64\n",
      "bloating    13512 non-null int64\n",
      "cramp       13512 non-null int64\n",
      "diarrhea    13512 non-null int64\n",
      "dizzy       13512 non-null int64\n",
      "headache    13512 non-null int64\n",
      "mood        13512 non-null int64\n",
      "nausea      13512 non-null int64\n",
      "sore        13512 non-null int64\n",
      "date        13511 non-null datetime64[ns]\n",
      "dtypes: datetime64[ns](1), int64(12)\n",
      "memory usage: 1.3 MB\n"
     ]
    }
   ],
   "source": [
    "df_symptom.info()"
   ]
  },
  {
   "cell_type": "code",
   "execution_count": 20,
   "metadata": {},
   "outputs": [
    {
     "data": {
      "text/html": [
       "<div>\n",
       "<style scoped>\n",
       "    .dataframe tbody tr th:only-of-type {\n",
       "        vertical-align: middle;\n",
       "    }\n",
       "\n",
       "    .dataframe tbody tr th {\n",
       "        vertical-align: top;\n",
       "    }\n",
       "\n",
       "    .dataframe thead th {\n",
       "        text-align: right;\n",
       "    }\n",
       "</style>\n",
       "<table border=\"1\" class=\"dataframe\">\n",
       "  <thead>\n",
       "    <tr style=\"text-align: right;\">\n",
       "      <th></th>\n",
       "      <th>id</th>\n",
       "      <th>user_id</th>\n",
       "      <th>acne</th>\n",
       "      <th>backache</th>\n",
       "      <th>bloating</th>\n",
       "      <th>cramp</th>\n",
       "      <th>diarrhea</th>\n",
       "      <th>dizzy</th>\n",
       "      <th>headache</th>\n",
       "      <th>mood</th>\n",
       "      <th>nausea</th>\n",
       "      <th>sore</th>\n",
       "    </tr>\n",
       "  </thead>\n",
       "  <tbody>\n",
       "    <tr>\n",
       "      <th>count</th>\n",
       "      <td>13512.000000</td>\n",
       "      <td>13512.000000</td>\n",
       "      <td>13512.000000</td>\n",
       "      <td>13512.000000</td>\n",
       "      <td>13512.000000</td>\n",
       "      <td>13512.000000</td>\n",
       "      <td>13512.000000</td>\n",
       "      <td>13512.000000</td>\n",
       "      <td>13512.000000</td>\n",
       "      <td>13512.000000</td>\n",
       "      <td>13512.000000</td>\n",
       "      <td>13512.000000</td>\n",
       "    </tr>\n",
       "    <tr>\n",
       "      <th>mean</th>\n",
       "      <td>6951.902679</td>\n",
       "      <td>3559.687537</td>\n",
       "      <td>11.383141</td>\n",
       "      <td>18.282490</td>\n",
       "      <td>18.885287</td>\n",
       "      <td>27.093176</td>\n",
       "      <td>6.690571</td>\n",
       "      <td>6.338958</td>\n",
       "      <td>14.825636</td>\n",
       "      <td>20.376406</td>\n",
       "      <td>6.813721</td>\n",
       "      <td>14.736530</td>\n",
       "    </tr>\n",
       "    <tr>\n",
       "      <th>std</th>\n",
       "      <td>3921.610731</td>\n",
       "      <td>1891.767966</td>\n",
       "      <td>21.793378</td>\n",
       "      <td>29.024682</td>\n",
       "      <td>29.092707</td>\n",
       "      <td>33.815321</td>\n",
       "      <td>18.430359</td>\n",
       "      <td>17.789091</td>\n",
       "      <td>26.607968</td>\n",
       "      <td>31.515778</td>\n",
       "      <td>18.911498</td>\n",
       "      <td>27.332721</td>\n",
       "    </tr>\n",
       "    <tr>\n",
       "      <th>min</th>\n",
       "      <td>127.000000</td>\n",
       "      <td>252.000000</td>\n",
       "      <td>0.000000</td>\n",
       "      <td>0.000000</td>\n",
       "      <td>0.000000</td>\n",
       "      <td>0.000000</td>\n",
       "      <td>0.000000</td>\n",
       "      <td>0.000000</td>\n",
       "      <td>0.000000</td>\n",
       "      <td>0.000000</td>\n",
       "      <td>0.000000</td>\n",
       "      <td>0.000000</td>\n",
       "    </tr>\n",
       "    <tr>\n",
       "      <th>25%</th>\n",
       "      <td>3553.750000</td>\n",
       "      <td>2000.500000</td>\n",
       "      <td>0.000000</td>\n",
       "      <td>0.000000</td>\n",
       "      <td>0.000000</td>\n",
       "      <td>0.000000</td>\n",
       "      <td>0.000000</td>\n",
       "      <td>0.000000</td>\n",
       "      <td>0.000000</td>\n",
       "      <td>0.000000</td>\n",
       "      <td>0.000000</td>\n",
       "      <td>0.000000</td>\n",
       "    </tr>\n",
       "    <tr>\n",
       "      <th>50%</th>\n",
       "      <td>6958.500000</td>\n",
       "      <td>3475.000000</td>\n",
       "      <td>0.000000</td>\n",
       "      <td>0.000000</td>\n",
       "      <td>0.000000</td>\n",
       "      <td>8.000000</td>\n",
       "      <td>0.000000</td>\n",
       "      <td>0.000000</td>\n",
       "      <td>0.000000</td>\n",
       "      <td>0.000000</td>\n",
       "      <td>0.000000</td>\n",
       "      <td>0.000000</td>\n",
       "    </tr>\n",
       "    <tr>\n",
       "      <th>75%</th>\n",
       "      <td>10348.250000</td>\n",
       "      <td>5147.250000</td>\n",
       "      <td>16.000000</td>\n",
       "      <td>32.000000</td>\n",
       "      <td>34.000000</td>\n",
       "      <td>51.000000</td>\n",
       "      <td>0.000000</td>\n",
       "      <td>0.000000</td>\n",
       "      <td>22.000000</td>\n",
       "      <td>36.000000</td>\n",
       "      <td>0.000000</td>\n",
       "      <td>20.000000</td>\n",
       "    </tr>\n",
       "    <tr>\n",
       "      <th>max</th>\n",
       "      <td>13732.000000</td>\n",
       "      <td>7054.000000</td>\n",
       "      <td>100.000000</td>\n",
       "      <td>100.000000</td>\n",
       "      <td>100.000000</td>\n",
       "      <td>100.000000</td>\n",
       "      <td>100.000000</td>\n",
       "      <td>100.000000</td>\n",
       "      <td>100.000000</td>\n",
       "      <td>100.000000</td>\n",
       "      <td>100.000000</td>\n",
       "      <td>100.000000</td>\n",
       "    </tr>\n",
       "  </tbody>\n",
       "</table>\n",
       "</div>"
      ],
      "text/plain": [
       "                 id       user_id          acne      backache      bloating  \\\n",
       "count  13512.000000  13512.000000  13512.000000  13512.000000  13512.000000   \n",
       "mean    6951.902679   3559.687537     11.383141     18.282490     18.885287   \n",
       "std     3921.610731   1891.767966     21.793378     29.024682     29.092707   \n",
       "min      127.000000    252.000000      0.000000      0.000000      0.000000   \n",
       "25%     3553.750000   2000.500000      0.000000      0.000000      0.000000   \n",
       "50%     6958.500000   3475.000000      0.000000      0.000000      0.000000   \n",
       "75%    10348.250000   5147.250000     16.000000     32.000000     34.000000   \n",
       "max    13732.000000   7054.000000    100.000000    100.000000    100.000000   \n",
       "\n",
       "              cramp      diarrhea         dizzy      headache          mood  \\\n",
       "count  13512.000000  13512.000000  13512.000000  13512.000000  13512.000000   \n",
       "mean      27.093176      6.690571      6.338958     14.825636     20.376406   \n",
       "std       33.815321     18.430359     17.789091     26.607968     31.515778   \n",
       "min        0.000000      0.000000      0.000000      0.000000      0.000000   \n",
       "25%        0.000000      0.000000      0.000000      0.000000      0.000000   \n",
       "50%        8.000000      0.000000      0.000000      0.000000      0.000000   \n",
       "75%       51.000000      0.000000      0.000000     22.000000     36.000000   \n",
       "max      100.000000    100.000000    100.000000    100.000000    100.000000   \n",
       "\n",
       "             nausea          sore  \n",
       "count  13512.000000  13512.000000  \n",
       "mean       6.813721     14.736530  \n",
       "std       18.911498     27.332721  \n",
       "min        0.000000      0.000000  \n",
       "25%        0.000000      0.000000  \n",
       "50%        0.000000      0.000000  \n",
       "75%        0.000000     20.000000  \n",
       "max      100.000000    100.000000  "
      ]
     },
     "execution_count": 20,
     "metadata": {},
     "output_type": "execute_result"
    }
   ],
   "source": [
    "df_symptom.describe()"
   ]
  },
  {
   "cell_type": "markdown",
   "metadata": {},
   "source": [
    "### To easy to know how much painful users suffer before, after and during period, We add one more column that is total of value of symptoms"
   ]
  },
  {
   "cell_type": "code",
   "execution_count": 21,
   "metadata": {},
   "outputs": [
    {
     "data": {
      "text/html": [
       "<div>\n",
       "<style scoped>\n",
       "    .dataframe tbody tr th:only-of-type {\n",
       "        vertical-align: middle;\n",
       "    }\n",
       "\n",
       "    .dataframe tbody tr th {\n",
       "        vertical-align: top;\n",
       "    }\n",
       "\n",
       "    .dataframe thead th {\n",
       "        text-align: right;\n",
       "    }\n",
       "</style>\n",
       "<table border=\"1\" class=\"dataframe\">\n",
       "  <thead>\n",
       "    <tr style=\"text-align: right;\">\n",
       "      <th></th>\n",
       "      <th>id</th>\n",
       "      <th>user_id</th>\n",
       "      <th>acne</th>\n",
       "      <th>backache</th>\n",
       "      <th>bloating</th>\n",
       "      <th>cramp</th>\n",
       "      <th>diarrhea</th>\n",
       "      <th>dizzy</th>\n",
       "      <th>headache</th>\n",
       "      <th>mood</th>\n",
       "      <th>nausea</th>\n",
       "      <th>sore</th>\n",
       "      <th>date</th>\n",
       "      <th>total</th>\n",
       "    </tr>\n",
       "  </thead>\n",
       "  <tbody>\n",
       "    <tr>\n",
       "      <th>0</th>\n",
       "      <td>127</td>\n",
       "      <td>252</td>\n",
       "      <td>0</td>\n",
       "      <td>0</td>\n",
       "      <td>0</td>\n",
       "      <td>0</td>\n",
       "      <td>0</td>\n",
       "      <td>0</td>\n",
       "      <td>0</td>\n",
       "      <td>0</td>\n",
       "      <td>0</td>\n",
       "      <td>0</td>\n",
       "      <td>2015-11-04</td>\n",
       "      <td>0</td>\n",
       "    </tr>\n",
       "    <tr>\n",
       "      <th>1</th>\n",
       "      <td>128</td>\n",
       "      <td>257</td>\n",
       "      <td>0</td>\n",
       "      <td>0</td>\n",
       "      <td>0</td>\n",
       "      <td>46</td>\n",
       "      <td>0</td>\n",
       "      <td>0</td>\n",
       "      <td>0</td>\n",
       "      <td>0</td>\n",
       "      <td>0</td>\n",
       "      <td>0</td>\n",
       "      <td>2015-10-04</td>\n",
       "      <td>46</td>\n",
       "    </tr>\n",
       "    <tr>\n",
       "      <th>2</th>\n",
       "      <td>129</td>\n",
       "      <td>257</td>\n",
       "      <td>0</td>\n",
       "      <td>0</td>\n",
       "      <td>0</td>\n",
       "      <td>0</td>\n",
       "      <td>0</td>\n",
       "      <td>27</td>\n",
       "      <td>48</td>\n",
       "      <td>0</td>\n",
       "      <td>0</td>\n",
       "      <td>0</td>\n",
       "      <td>2015-11-04</td>\n",
       "      <td>75</td>\n",
       "    </tr>\n",
       "    <tr>\n",
       "      <th>3</th>\n",
       "      <td>130</td>\n",
       "      <td>263</td>\n",
       "      <td>0</td>\n",
       "      <td>0</td>\n",
       "      <td>0</td>\n",
       "      <td>0</td>\n",
       "      <td>0</td>\n",
       "      <td>0</td>\n",
       "      <td>0</td>\n",
       "      <td>0</td>\n",
       "      <td>0</td>\n",
       "      <td>0</td>\n",
       "      <td>2015-11-04</td>\n",
       "      <td>0</td>\n",
       "    </tr>\n",
       "    <tr>\n",
       "      <th>4</th>\n",
       "      <td>132</td>\n",
       "      <td>269</td>\n",
       "      <td>0</td>\n",
       "      <td>0</td>\n",
       "      <td>0</td>\n",
       "      <td>0</td>\n",
       "      <td>0</td>\n",
       "      <td>0</td>\n",
       "      <td>0</td>\n",
       "      <td>0</td>\n",
       "      <td>0</td>\n",
       "      <td>0</td>\n",
       "      <td>2015-11-04</td>\n",
       "      <td>0</td>\n",
       "    </tr>\n",
       "  </tbody>\n",
       "</table>\n",
       "</div>"
      ],
      "text/plain": [
       "    id  user_id  acne  backache  bloating  cramp  diarrhea  dizzy  headache  \\\n",
       "0  127      252     0         0         0      0         0      0         0   \n",
       "1  128      257     0         0         0     46         0      0         0   \n",
       "2  129      257     0         0         0      0         0     27        48   \n",
       "3  130      263     0         0         0      0         0      0         0   \n",
       "4  132      269     0         0         0      0         0      0         0   \n",
       "\n",
       "   mood  nausea  sore       date  total  \n",
       "0     0       0     0 2015-11-04      0  \n",
       "1     0       0     0 2015-10-04     46  \n",
       "2     0       0     0 2015-11-04     75  \n",
       "3     0       0     0 2015-11-04      0  \n",
       "4     0       0     0 2015-11-04      0  "
      ]
     },
     "execution_count": 21,
     "metadata": {},
     "output_type": "execute_result"
    }
   ],
   "source": [
    "df_sum = df_symptom.drop(columns = ['id', 'user_id', 'date'])\n",
    "df_symptom['total'] = np.sum(df_sum, axis=1)\n",
    "\n",
    "df_symptom.head()"
   ]
  },
  {
   "cell_type": "markdown",
   "metadata": {},
   "source": [
    "## 3. Exploratory Data Analysis"
   ]
  },
  {
   "cell_type": "code",
   "execution_count": 22,
   "metadata": {},
   "outputs": [],
   "source": [
    "import matplotlib.pyplot as  plt"
   ]
  },
  {
   "cell_type": "code",
   "execution_count": 23,
   "metadata": {},
   "outputs": [
    {
     "name": "stdout",
     "output_type": "stream",
     "text": [
      "    id  cycle_length_initial  period_length_initial\n",
      "0  252                    28                      6\n",
      "1  253                    30                      5\n",
      "2  254                    28                      6\n",
      "3  255                    30                      4\n",
      "4  256                    25                      6\n",
      "    id  user_id  acne  backache  bloating  cramp  diarrhea  dizzy  headache  \\\n",
      "0  127      252     0         0         0      0         0      0         0   \n",
      "1  128      257     0         0         0     46         0      0         0   \n",
      "2  129      257     0         0         0      0         0     27        48   \n",
      "3  130      263     0         0         0      0         0      0         0   \n",
      "4  132      269     0         0         0      0         0      0         0   \n",
      "\n",
      "   mood  nausea  sore       date  total  \n",
      "0     0       0     0 2015-11-04      0  \n",
      "1     0       0     0 2015-10-04     46  \n",
      "2     0       0     0 2015-11-04     75  \n",
      "3     0       0     0 2015-11-04      0  \n",
      "4     0       0     0 2015-11-04      0  \n"
     ]
    }
   ],
   "source": [
    "print(df_user1.head())\n",
    "print(df_symptom.head())"
   ]
  },
  {
   "cell_type": "markdown",
   "metadata": {},
   "source": [
    "### We know that period length is not valid if it is greater than 7. Let plot 3 group of periods to see how many invalid data"
   ]
  },
  {
   "cell_type": "code",
   "execution_count": 35,
   "metadata": {},
   "outputs": [
    {
     "data": {
      "text/plain": [
       "<BarContainer object of 3 artists>"
      ]
     },
     "execution_count": 35,
     "metadata": {},
     "output_type": "execute_result"
    },
    {
     "data": {
      "image/png": "[encoded data removed]",
      "text/plain": [
       "<Figure size 432x288 with 1 Axes>"
      ]
     },
     "metadata": {
      "needs_background": "light"
     },
     "output_type": "display_data"
    }
   ],
   "source": [
    "data = {'2-7':len(df_user1), '8-15':len(df_user2), '>15':len(df_user3)}\n",
    "cols = list(data.keys())\n",
    "vals = list(data.values())    \n",
    "\n",
    "plt.bar(cols, vals)\n"
   ]
  },
  {
   "cell_type": "markdown",
   "metadata": {},
   "source": [
    "### Next, we will discover if there is any relation between period length and symptom"
   ]
  },
  {
   "cell_type": "code",
   "execution_count": 36,
   "metadata": {
    "scrolled": true
   },
   "outputs": [
    {
     "data": {
      "text/plain": [
       "<BarContainer object of 3 artists>"
      ]
     },
     "execution_count": 36,
     "metadata": {},
     "output_type": "execute_result"
    },
    {
     "data": {
      "image/png": "[encoded data removed]",
      "text/plain": [
       "<Figure size 432x288 with 1 Axes>"
      ]
     },
     "metadata": {
      "needs_background": "light"
     },
     "output_type": "display_data"
    }
   ],
   "source": [
    "df_tmp = df_user1.set_index('id').join(df_symptom.set_index('user_id'))\n",
    "val1 = df_tmp['total'].median()\n",
    "\n",
    "df_tmp = df_user2.set_index('id').join(df_symptom.set_index('user_id'))\n",
    "val2 = df_tmp['total'].median()\n",
    "\n",
    "df_tmp = df_user3.set_index('id').join(df_symptom.set_index('user_id'))\n",
    "val3 = df_tmp['total'].median()\n",
    "\n",
    "data = {'2-7':val1, '8-15':val2, '>15':val3}\n",
    "cols = list(data.keys())\n",
    "vals = list(data.values())\n",
    "\n",
    "plt.bar(cols, vals)\n"
   ]
  },
  {
   "cell_type": "markdown",
   "metadata": {},
   "source": [
    "### Users with normal period (7 days maximum) tend to suffer less pain than users with long period"
   ]
  },
  {
   "cell_type": "code",
   "execution_count": 73,
   "metadata": {},
   "outputs": [
    {
     "data": {
      "text/plain": [
       "<BarContainer object of 2 artists>"
      ]
     },
     "execution_count": 73,
     "metadata": {},
     "output_type": "execute_result"
    },
    {
     "data": {
      "image/png": "[encoded data removed]",
      "text/plain": [
       "<Figure size 432x288 with 1 Axes>"
      ]
     },
     "metadata": {
      "needs_background": "light"
     },
     "output_type": "display_data"
    }
   ],
   "source": [
    "df_tmp = df_symptom.set_index('user_id').join(df_user.set_index('id'), how='outer')\n",
    "\n",
    "data = {'registration':len(df_user['id']), 'observation':len(df_symptom.groupby('user_id'))}\n",
    "keys = list(data.keys())\n",
    "vals = list(data.values())\n",
    "\n",
    "plt.bar(keys, vals)\n",
    "\n"
   ]
  },
  {
   "cell_type": "markdown",
   "metadata": {},
   "source": [
    "### The number of people who record their data are just a little bit more than half of registration. Maybe, they forget to track their activity after creating an account on application. There should be an automatic notification to remind users keeping to record their data"
   ]
  },
  {
   "cell_type": "code",
   "execution_count": null,
   "metadata": {},
   "outputs": [],
   "source": []
  }
 ],
 "metadata": {
  "kernelspec": {
   "display_name": "Python 3",
   "language": "python",
   "name": "python3"
  },
  "language_info": {
   "codemirror_mode": {
    "name": "ipython",
    "version": 3
   },
   "file_extension": ".py",
   "mimetype": "text/x-python",
   "name": "python",
   "nbconvert_exporter": "python",
   "pygments_lexer": "ipython3",
   "version": "3.7.0"
  }
 },
 "nbformat": 4,
 "nbformat_minor": 2
}
